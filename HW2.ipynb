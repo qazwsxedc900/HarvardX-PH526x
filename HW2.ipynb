{
  "cells": [
    {
      "cell_type": "markdown",
      "metadata": {
        "id": "view-in-github",
        "colab_type": "text"
      },
      "source": [
        "<a href=\"https://colab.research.google.com/github/qazwsxedc900/HarvardX-PH526x/blob/main/HW2.ipynb\" target=\"_parent\"><img src=\"https://colab.research.google.com/assets/colab-badge.svg\" alt=\"Open In Colab\"/></a>"
      ]
    },
    {
      "cell_type": "markdown",
      "metadata": {
        "id": "g2UpjWers9wB"
      },
      "source": [
        "# Using Python for Research Homework: Week 2\n",
        "\n",
        "In this homework, we will use the tools we've covered in the past two weeks to create a tic-tac-toe (noughts and crosses) simulator and evaluate basic winning strategies."
      ]
    },
    {
      "cell_type": "markdown",
      "metadata": {
        "id": "r1abVql3s9wC"
      },
      "source": [
        "### Exercise 1\n",
        "\n",
        "Tic-tac-toe (or noughts and crosses) is a simple strategy game in which two players take turns placing a mark on a 3x3 board, attempting to make a row, column, or diagonal of three with their mark. In this homework, we will use the tools we've covered in the past two weeks to create a tic-tac-toe simulator and evaluate basic winning strategies.\n",
        "\n",
        "In the following exercises, we will learn to create a tic-tac-toe board, place markers on the board, evaluate if either player has won, and use this to simulate two basic strategies.\n",
        "\n",
        "#### Instructions\n",
        "\n",
        "- For our tic-tac-toe board, we will use a numpy array with dimension 3 by 3.\n",
        "- Make a function `create_board()` that creates such a board with the value of each cell set to the integer `0`.\n",
        "- Call `create_board()` and store it."
      ]
    },
    {
      "cell_type": "code",
      "execution_count": 11,
      "metadata": {
        "colab": {
          "base_uri": "https://localhost:8080/"
        },
        "id": "i9xg2K_zs9wD",
        "outputId": "3168fd17-096c-40f6-b976-19b79a4071f9"
      },
      "outputs": [
        {
          "output_type": "execute_result",
          "data": {
            "text/plain": [
              "array([[0., 0., 0.],\n",
              "       [0., 0., 0.],\n",
              "       [0., 0., 0.]])"
            ]
          },
          "metadata": {},
          "execution_count": 11
        }
      ],
      "source": [
        "import numpy as np\n",
        "\n",
        "# write your code here!\n",
        "def create_board():\n",
        "    return np.zeros((3,3))\n",
        "\n",
        "board = create_board()\n",
        "board"
      ]
    },
    {
      "cell_type": "markdown",
      "metadata": {
        "id": "iGO3LECns9wE"
      },
      "source": [
        "### Exercise 2\n",
        "\n",
        "Players 1 and 2 will take turns changing values of this array from a 0 to a 1 or 2, indicating the number of the player who places a marker there.\n",
        "\n",
        "#### Instructions\n",
        "\n",
        "- Create a function `place(board, player, position)`, where:\n",
        "    - `player` is the current player (an integer 1 or 2).\n",
        "    - `position` is a tuple of length 2 specifying a desired location to place their marker.\n",
        "    - Your function should only allow the current player to place a marker on the board (change the board position to their number) if that position is empty (zero).\n",
        "- Use `create_board()` to store a board as `board`, and use `place` to have Player 1 place a marker on location `(0, 0)`."
      ]
    },
    {
      "cell_type": "code",
      "execution_count": 12,
      "metadata": {
        "colab": {
          "base_uri": "https://localhost:8080/"
        },
        "id": "aJqRrToXs9wE",
        "outputId": "0c97fd1b-3802-460b-efc6-89f689ed7b00"
      },
      "outputs": [
        {
          "output_type": "execute_result",
          "data": {
            "text/plain": [
              "array([[1., 0., 0.],\n",
              "       [0., 0., 0.],\n",
              "       [0., 0., 0.]])"
            ]
          },
          "metadata": {},
          "execution_count": 12
        }
      ],
      "source": [
        "# write your code here!\n",
        "def place(board, player, position):\n",
        "  if board[position]==0:\n",
        "    board[position]=player\n",
        "  return board\n",
        "\n",
        "place(board, 1, (0,0))\n",
        "\n",
        "\n"
      ]
    },
    {
      "cell_type": "markdown",
      "metadata": {
        "id": "hlh6kpISs9wE"
      },
      "source": [
        "### Exercise 3\n",
        "\n",
        "In this exercise, we will determine which positions are available to either player for placing their marker.\n",
        "\n",
        "#### Instructions\n",
        "- Create a function `possibilities(board)` that returns a list of all positions (tuples) on the board that are not occupied (0). (Hint: `numpy.where` is a handy function that returns a list of indices that meet a condition.)\n",
        "- `board` is already defined from previous exercises. Call `possibilities(board)` to see what it returns!"
      ]
    },
    {
      "cell_type": "code",
      "execution_count": 13,
      "metadata": {
        "colab": {
          "base_uri": "https://localhost:8080/"
        },
        "id": "C34l79Kps9wE",
        "outputId": "53a0125a-f178-4098-b597-7856fa384283"
      },
      "outputs": [
        {
          "output_type": "execute_result",
          "data": {
            "text/plain": [
              "(array([0, 0, 1, 1, 1, 2, 2, 2]), array([1, 2, 0, 1, 2, 0, 1, 2]))"
            ]
          },
          "metadata": {},
          "execution_count": 13
        }
      ],
      "source": [
        "# write your code here!\n",
        "def possibilities(board):\n",
        "  return np.where(board==0)\n",
        "\n",
        "possibilities(board)"
      ]
    },
    {
      "cell_type": "markdown",
      "metadata": {
        "id": "T_LdZclns9wF"
      },
      "source": [
        "### Exercise 4\n",
        "\n",
        "The next step is for the current player to place a marker among the available positions. In this exercise, we will select an available board position at random and place a marker there.\n",
        "\n",
        "#### Instructions\n",
        "\n",
        "- Write a function `random_place(board, player)` that places a marker for the current player at random among all the available positions (those currently set to 0).\n",
        "    - Find possible placements with `possibilities(board)`.\n",
        "    - Select one possible placement at random using `random.choice(selection)`.\n",
        "- `board` is already defined from previous exercises. Call `random_place(board, player)` to place a random marker for Player 2, and store this as board to update its value."
      ]
    },
    {
      "cell_type": "code",
      "execution_count": 50,
      "metadata": {
        "colab": {
          "base_uri": "https://localhost:8080/"
        },
        "id": "ayQb-uoBs9wF",
        "outputId": "2fab9282-e79b-4dba-afd6-f5a62c21aaae"
      },
      "outputs": [
        {
          "output_type": "execute_result",
          "data": {
            "text/plain": [
              "array([[2., 2., 1.],\n",
              "       [2., 2., 0.],\n",
              "       [0., 1., 2.]])"
            ]
          },
          "metadata": {},
          "execution_count": 50
        }
      ],
      "source": [
        "import random\n",
        "random.seed(1)\n",
        "\n",
        "# write your code here!\n",
        "def random_place(board, player):\n",
        "  selections = possibilities(board)\n",
        "  if len(selections[0])==0:\n",
        "    return board\n",
        "  i = random.choice(range(len(selections[0])))\n",
        "  return place(board, player, (selections[0][i], selections[1][i]))\n",
        "\n",
        "\n",
        "random_place(board, 2)"
      ]
    },
    {
      "cell_type": "markdown",
      "metadata": {
        "id": "4SnPH3Ezs9wF"
      },
      "source": [
        "### Exercise 5\n",
        "\n",
        "We will now have both players place three markers each.\n",
        "\n",
        "#### Instructions\n",
        "\n",
        "- A new `board` is already given. Call `random_place(board, player)` to place three pieces each on board for players 1 and 2.\n",
        "- Print board to see your result."
      ]
    },
    {
      "cell_type": "code",
      "execution_count": 51,
      "metadata": {
        "colab": {
          "base_uri": "https://localhost:8080/"
        },
        "id": "uUas8QxWs9wF",
        "outputId": "2b84d18b-a7b2-4306-af9f-20a728f28d72"
      },
      "outputs": [
        {
          "output_type": "execute_result",
          "data": {
            "text/plain": [
              "array([[2., 2., 1.],\n",
              "       [0., 1., 0.],\n",
              "       [0., 1., 2.]])"
            ]
          },
          "metadata": {},
          "execution_count": 51
        }
      ],
      "source": [
        "random.seed(1)\n",
        "board = create_board()\n",
        "\n",
        "# write your code here!\n",
        "random_place(board, 1)\n",
        "random_place(board, 2)\n",
        "random_place(board, 1)\n",
        "random_place(board, 2)\n",
        "random_place(board, 1)\n",
        "random_place(board, 2)"
      ]
    },
    {
      "cell_type": "markdown",
      "metadata": {
        "id": "AsA0uOHrs9wG"
      },
      "source": [
        "### Exercise 6\n",
        "\n",
        "In the next few exercises, we will make functions that check whether either player has won the game.\n",
        "\n",
        "#### Instructions\n",
        "- Make a function `row_win(board, player)` that takes the player (integer) and determines if any row consists of only their marker.\n",
        "    - Have it return `True` if this condition is met and `False` otherwise.\n",
        "- `board` is already defined from previous exercises. Call `row_win` to check if Player 1 has a complete row."
      ]
    },
    {
      "cell_type": "code",
      "execution_count": 52,
      "metadata": {
        "colab": {
          "base_uri": "https://localhost:8080/"
        },
        "id": "X1EXJoWIs9wG",
        "outputId": "2f93eac2-4f15-4221-f444-3be2f14d6eb0"
      },
      "outputs": [
        {
          "output_type": "execute_result",
          "data": {
            "text/plain": [
              "False"
            ]
          },
          "metadata": {},
          "execution_count": 52
        }
      ],
      "source": [
        "# write your code here!\n",
        "def row_win(board, player):\n",
        "  if np.any(np.all(board==player, axis=1)):\n",
        "    return True\n",
        "  else:\n",
        "    return False\n",
        "\n",
        "row_win(board, 1)\n"
      ]
    },
    {
      "cell_type": "markdown",
      "metadata": {
        "id": "mOb8AAWXs9wG"
      },
      "source": [
        "### Exercise 7\n",
        "\n",
        "In the next few exercises, we will make functions that verify if either player has won the game.\n",
        "\n",
        "#### Instructions\n",
        "- Make a function `col_win(board, player)` that takes the player (integer) and determines if any column consists of only their marker.\n",
        "    - Have it return `True` if this condition is met and `False` otherwise.\n",
        "- `board` is already defined from previous exercises. Call `col_win` to check if Player 1 has a complete row."
      ]
    },
    {
      "cell_type": "code",
      "execution_count": 53,
      "metadata": {
        "colab": {
          "base_uri": "https://localhost:8080/"
        },
        "id": "-wL16Rges9wG",
        "outputId": "9bbe8199-4d5d-4f30-fa5c-18df0ce24aff"
      },
      "outputs": [
        {
          "output_type": "execute_result",
          "data": {
            "text/plain": [
              "False"
            ]
          },
          "metadata": {},
          "execution_count": 53
        }
      ],
      "source": [
        "# write your code here!\n",
        "def col_win(board, player):\n",
        "  if np.any(np.all(board==player, axis=0)):\n",
        "    return True\n",
        "  else:\n",
        "    return False\n",
        "\n",
        "col_win(board, 1)"
      ]
    },
    {
      "cell_type": "markdown",
      "metadata": {
        "id": "fu5WFUxDs9wG"
      },
      "source": [
        "### Exercise 8\n",
        "\n",
        "In the next few exercises, we will make functions that verify if either player has won the game.\n",
        "\n",
        "#### Instructions\n",
        "- Finally, create a function `diag_win(board, player)` that tests if either diagonal of the board consists of only their marker. Have it return `True` if this condition is met, and `False` otherwise.\n",
        "- `board` has been slightly modified from a previous exercise. Call `diag_win` to check if Player 2 has a complete diagonal."
      ]
    },
    {
      "cell_type": "code",
      "execution_count": 54,
      "metadata": {
        "colab": {
          "base_uri": "https://localhost:8080/"
        },
        "id": "_s-J-NfWs9wG",
        "outputId": "56e97913-def2-4d8a-f4a1-b0fa454a131a"
      },
      "outputs": [
        {
          "output_type": "execute_result",
          "data": {
            "text/plain": [
              "True"
            ]
          },
          "metadata": {},
          "execution_count": 54
        }
      ],
      "source": [
        "board[1,1] = 2\n",
        "\n",
        "# write your code here!\n",
        "def diag_win(board, player):\n",
        "  if np.all(np.diag(board)==player) or np.all(np.diag(np.fliplr(board))==player):\n",
        "    return True\n",
        "  else:\n",
        "    return False\n",
        "\n",
        "\n",
        "diag_win(board, 2)"
      ]
    },
    {
      "cell_type": "markdown",
      "metadata": {
        "id": "MsJk42Crs9wG"
      },
      "source": [
        "### Exercise 9\n",
        "\n",
        "In the next few exercises, we will make functions that check whether either player has won the game.\n",
        "\n",
        "#### Instructions\n",
        "- Create a function `evaluate(board)` that uses `row_win`, `col_win`, and `diag_win` functions for both players. If one of them has won, return that player's number. If the board is full but no one has won, return -1. Otherwise, return 0.\n",
        "- `board` is already defined from previous exercises. Call evaluate to see if either player has won the game yet."
      ]
    },
    {
      "cell_type": "code",
      "execution_count": 55,
      "metadata": {
        "colab": {
          "base_uri": "https://localhost:8080/"
        },
        "id": "IRlAfPGQs9wG",
        "outputId": "17d88469-b766-40b4-addf-7274e9e46b64"
      },
      "outputs": [
        {
          "output_type": "execute_result",
          "data": {
            "text/plain": [
              "2"
            ]
          },
          "metadata": {},
          "execution_count": 55
        }
      ],
      "source": [
        "def evaluate(board):\n",
        "    winner = 0\n",
        "    for player in [1, 2]:\n",
        "        # add your code here!\n",
        "        if row_win(board, player) or col_win(board, player) or diag_win(board, player):\n",
        "            winner = player\n",
        "    if np.all(board != 0) and winner == 0:\n",
        "        winner = -1\n",
        "    return winner\n",
        "\n",
        "evaluate(board)"
      ]
    },
    {
      "cell_type": "markdown",
      "metadata": {
        "id": "EJNP942Cs9wG"
      },
      "source": [
        "### Exercise 10\n",
        "\n",
        "In this exercise, we will use all the functions we have made to simulate an entire game.\n",
        "\n",
        "#### Instructions\n",
        "\n",
        "- `create_board()`, `random_place(board, player)`, and `evaluate(board)` have been created in previous exercises. Create a function `play_game()` that:\n",
        "    - Creates a board.\n",
        "    - Alternates taking turns between two players (beginning with Player 1), placing a marker during each turn.\n",
        "    - Evaluates the board for a winner after each placement.\n",
        "    - Continues the game until one player wins (returning 1 or 2 to reflect the winning player), or the game is a draw (returning -1).\n",
        "- Call play_game 1000 times, and store the results of the game in a list called `results`."
      ]
    },
    {
      "cell_type": "code",
      "execution_count": 95,
      "metadata": {
        "colab": {
          "base_uri": "https://localhost:8080/"
        },
        "collapsed": true,
        "id": "WwWrqWGcs9wG",
        "outputId": "fcf4515c-dbf6-468e-ccf6-3322befa5eb6"
      },
      "outputs": [
        {
          "output_type": "execute_result",
          "data": {
            "text/plain": [
              "591"
            ]
          },
          "metadata": {},
          "execution_count": 95
        }
      ],
      "source": [
        "random.seed(1)\n",
        "\n",
        "# write your code here!\n",
        "def play_game():\n",
        "    board = create_board()\n",
        "    winner = 0\n",
        "    while winner == 0:\n",
        "        for player in [1,2]:\n",
        "          random_place(board, player)\n",
        "          winner = evaluate(board)\n",
        "          if winner != 0:\n",
        "              break\n",
        "    return winner\n",
        "\n",
        "\n",
        "result = []\n",
        "result = [play_game() for i in range(1000)]\n",
        "result.count(1)"
      ]
    },
    {
      "cell_type": "markdown",
      "source": [],
      "metadata": {
        "id": "58oRhS2J7aeW"
      }
    },
    {
      "cell_type": "markdown",
      "metadata": {
        "id": "3Pnzg-NJs9wH"
      },
      "source": [
        "#### Exercise 11\n",
        "\n",
        "In the previous exercise, we see that when guessing at random, it's better to go first, as expected. Let's see if Player 1 can improve their strategy.\n",
        "\n",
        "#### Instructions\n",
        "- Create a function `play_strategic_game()`, where Player 1 always starts with the middle square, and otherwise both players place their markers randomly.\n",
        "- Call `play_strategic_game` 1000 times."
      ]
    },
    {
      "cell_type": "code",
      "execution_count": 90,
      "metadata": {
        "id": "dQgWSt0as9wH"
      },
      "outputs": [],
      "source": [
        "random.seed(1)\n",
        "\n",
        "# write your code here\n",
        "def play_strategic_game():\n",
        "  board = create_board()\n",
        "  place(board, 1, (1,1))\n",
        "  winner = 0\n",
        "  while winner == 0:\n",
        "        for player in [2, 1]:\n",
        "            random_place(board, player)\n",
        "            winner = evaluate(board)\n",
        "            if winner != 0:\n",
        "                break\n",
        "  return winner\n",
        "\n",
        "\n",
        "strategy_result = []\n",
        "strategy_result = [play_strategic_game() for i in range(1000)]"
      ]
    },
    {
      "cell_type": "code",
      "source": [
        "strategy_result.count(1)"
      ],
      "metadata": {
        "colab": {
          "base_uri": "https://localhost:8080/"
        },
        "id": "HOK0SZKn57xT",
        "outputId": "76754a4c-46ad-41dc-af80-35264562fa4d"
      },
      "execution_count": 91,
      "outputs": [
        {
          "output_type": "execute_result",
          "data": {
            "text/plain": [
              "716"
            ]
          },
          "metadata": {},
          "execution_count": 91
        }
      ]
    },
    {
      "cell_type": "code",
      "source": [],
      "metadata": {
        "id": "oL8HMvoO6BFC"
      },
      "execution_count": null,
      "outputs": []
    }
  ],
  "metadata": {
    "kernelspec": {
      "display_name": "Python 3",
      "language": "python",
      "name": "python3"
    },
    "language_info": {
      "codemirror_mode": {
        "name": "ipython",
        "version": 3
      },
      "file_extension": ".py",
      "mimetype": "text/x-python",
      "name": "python",
      "nbconvert_exporter": "python",
      "pygments_lexer": "ipython3",
      "version": "3.7.3"
    },
    "colab": {
      "provenance": [],
      "include_colab_link": true
    }
  },
  "nbformat": 4,
  "nbformat_minor": 0
}